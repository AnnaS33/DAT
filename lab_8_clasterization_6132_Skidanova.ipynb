{
 "cells": [
  {
   "cell_type": "code",
   "execution_count": 114,
   "id": "df8abac9",
   "metadata": {},
   "outputs": [],
   "source": [
    "import pandas as pd\n",
    "import numpy as np\n",
    "from scipy.cluster.hierarchy import dendrogram, linkage\n",
    "from matplotlib import pyplot as plt\n",
    "from sklearn.cluster import KMeans\n",
    "from sklearn.metrics import (\n",
    "    adjusted_rand_score,\n",
    "    adjusted_mutual_info_score,\n",
    "    homogeneity_score,\n",
    "    completeness_score,\n",
    "    v_measure_score,\n",
    "    silhouette_score,\n",
    ")\n",
    "from sklearn.model_selection import GridSearchCV"
   ]
  },
  {
   "cell_type": "markdown",
   "id": "ef3542fe",
   "metadata": {},
   "source": [
    "# Лабораторная работа 8"
   ]
  },
  {
   "cell_type": "markdown",
   "id": "62e44d1d",
   "metadata": {},
   "source": [
    "Кластеризация\n",
    "\n",
    "Выполнила: 6132, Скиданова Анна\n",
    "\n",
    "0 Найти датасет для кластеризации: для этого берём датасет для мультиклассовой классификации и временно убираем метки классов. Эти метки классов пригодятся нам для оценки качества кластеризации. Хотя в реальной жизни такой роскоши скорее всего не будет, однако наличие априорного знания о кластерах позволит нам посчитать несколько дополнительных метрик. Опишите данные, что обозначает каждый столбец, какого типа (категориальный, вещественный, целочисленный, бинарный) данный столбец, при необходимости для категориальных в том числе бинарных признаков привести расшифровку их значений."
   ]
  },
  {
   "cell_type": "code",
   "execution_count": 115,
   "id": "370b3e33",
   "metadata": {},
   "outputs": [],
   "source": [
    "# Таблица клиентов\n",
    "df_t = pd.read_csv(\"abalone.csv\", sep=\"\\t\")"
   ]
  },
  {
   "cell_type": "code",
   "execution_count": 116,
   "id": "7f5c0266",
   "metadata": {},
   "outputs": [
    {
     "data": {
      "text/html": [
       "<div>\n",
       "<style scoped>\n",
       "    .dataframe tbody tr th:only-of-type {\n",
       "        vertical-align: middle;\n",
       "    }\n",
       "\n",
       "    .dataframe tbody tr th {\n",
       "        vertical-align: top;\n",
       "    }\n",
       "\n",
       "    .dataframe thead th {\n",
       "        text-align: right;\n",
       "    }\n",
       "</style>\n",
       "<table border=\"1\" class=\"dataframe\">\n",
       "  <thead>\n",
       "    <tr style=\"text-align: right;\">\n",
       "      <th></th>\n",
       "      <th>Sex,Length,Diameter,Height,Whole weight,Shucked weight,Viscera weight,Shell weight,Rings</th>\n",
       "    </tr>\n",
       "  </thead>\n",
       "  <tbody>\n",
       "    <tr>\n",
       "      <th>0</th>\n",
       "      <td>M,0.455,0.365,0.095,0.514,0.2245,0.101,0.15,15</td>\n",
       "    </tr>\n",
       "    <tr>\n",
       "      <th>1</th>\n",
       "      <td>M,0.35,0.265,0.09,0.2255,0.0995,0.0485,0.07,7</td>\n",
       "    </tr>\n",
       "    <tr>\n",
       "      <th>2</th>\n",
       "      <td>F,0.53,0.42,0.135,0.677,0.2565,0.1415,0.21,9</td>\n",
       "    </tr>\n",
       "    <tr>\n",
       "      <th>3</th>\n",
       "      <td>M,0.44,0.365,0.125,0.516,0.2155,0.114,0.155,10</td>\n",
       "    </tr>\n",
       "    <tr>\n",
       "      <th>4</th>\n",
       "      <td>I,0.33,0.255,0.08,0.205,0.0895,0.0395,0.055,7</td>\n",
       "    </tr>\n",
       "  </tbody>\n",
       "</table>\n",
       "</div>"
      ],
      "text/plain": [
       "  Sex,Length,Diameter,Height,Whole weight,Shucked weight,Viscera weight,Shell weight,Rings\n",
       "0     M,0.455,0.365,0.095,0.514,0.2245,0.101,0.15,15                                      \n",
       "1      M,0.35,0.265,0.09,0.2255,0.0995,0.0485,0.07,7                                      \n",
       "2       F,0.53,0.42,0.135,0.677,0.2565,0.1415,0.21,9                                      \n",
       "3     M,0.44,0.365,0.125,0.516,0.2155,0.114,0.155,10                                      \n",
       "4      I,0.33,0.255,0.08,0.205,0.0895,0.0395,0.055,7                                      "
      ]
     },
     "execution_count": 116,
     "metadata": {},
     "output_type": "execute_result"
    }
   ],
   "source": [
    "#Нужно привести DataFrame в нормальный вид, потому что сейчас он выглядит как:\n",
    "df_t.head()"
   ]
  },
  {
   "cell_type": "code",
   "execution_count": 117,
   "id": "18e71965",
   "metadata": {},
   "outputs": [],
   "source": [
    "str1=list(df_t)[0]\n",
    "name=[] # названия колонок\n",
    "while(str1.find(\",\")>0):\n",
    "    i=0\n",
    "    name.append(str1[i:str1.find(\",\")])\n",
    "    str1=str1[str1.find(\",\")+1:len(str1)]\n",
    "name.append(str1)"
   ]
  },
  {
   "cell_type": "code",
   "execution_count": 118,
   "id": "594334c5",
   "metadata": {},
   "outputs": [
    {
     "data": {
      "text/html": [
       "<div>\n",
       "<style scoped>\n",
       "    .dataframe tbody tr th:only-of-type {\n",
       "        vertical-align: middle;\n",
       "    }\n",
       "\n",
       "    .dataframe tbody tr th {\n",
       "        vertical-align: top;\n",
       "    }\n",
       "\n",
       "    .dataframe thead th {\n",
       "        text-align: right;\n",
       "    }\n",
       "</style>\n",
       "<table border=\"1\" class=\"dataframe\">\n",
       "  <thead>\n",
       "    <tr style=\"text-align: right;\">\n",
       "      <th></th>\n",
       "      <th>Sex</th>\n",
       "      <th>Length</th>\n",
       "      <th>Diameter</th>\n",
       "      <th>Height</th>\n",
       "      <th>Whole weight</th>\n",
       "      <th>Shucked weight</th>\n",
       "      <th>Viscera weight</th>\n",
       "      <th>Shell weight</th>\n",
       "      <th>Rings</th>\n",
       "    </tr>\n",
       "  </thead>\n",
       "  <tbody>\n",
       "    <tr>\n",
       "      <th>0</th>\n",
       "      <td>M</td>\n",
       "      <td>0.455</td>\n",
       "      <td>0.365</td>\n",
       "      <td>0.095</td>\n",
       "      <td>0.5140</td>\n",
       "      <td>0.2245</td>\n",
       "      <td>0.1010</td>\n",
       "      <td>0.150</td>\n",
       "      <td>15.0</td>\n",
       "    </tr>\n",
       "    <tr>\n",
       "      <th>1</th>\n",
       "      <td>M</td>\n",
       "      <td>0.350</td>\n",
       "      <td>0.265</td>\n",
       "      <td>0.090</td>\n",
       "      <td>0.2255</td>\n",
       "      <td>0.0995</td>\n",
       "      <td>0.0485</td>\n",
       "      <td>0.070</td>\n",
       "      <td>7.0</td>\n",
       "    </tr>\n",
       "    <tr>\n",
       "      <th>2</th>\n",
       "      <td>F</td>\n",
       "      <td>0.530</td>\n",
       "      <td>0.420</td>\n",
       "      <td>0.135</td>\n",
       "      <td>0.6770</td>\n",
       "      <td>0.2565</td>\n",
       "      <td>0.1415</td>\n",
       "      <td>0.210</td>\n",
       "      <td>9.0</td>\n",
       "    </tr>\n",
       "    <tr>\n",
       "      <th>3</th>\n",
       "      <td>M</td>\n",
       "      <td>0.440</td>\n",
       "      <td>0.365</td>\n",
       "      <td>0.125</td>\n",
       "      <td>0.5160</td>\n",
       "      <td>0.2155</td>\n",
       "      <td>0.1140</td>\n",
       "      <td>0.155</td>\n",
       "      <td>10.0</td>\n",
       "    </tr>\n",
       "    <tr>\n",
       "      <th>4</th>\n",
       "      <td>I</td>\n",
       "      <td>0.330</td>\n",
       "      <td>0.255</td>\n",
       "      <td>0.080</td>\n",
       "      <td>0.2050</td>\n",
       "      <td>0.0895</td>\n",
       "      <td>0.0395</td>\n",
       "      <td>0.055</td>\n",
       "      <td>7.0</td>\n",
       "    </tr>\n",
       "  </tbody>\n",
       "</table>\n",
       "</div>"
      ],
      "text/plain": [
       "  Sex  Length  Diameter  Height  Whole weight  Shucked weight  Viscera weight  \\\n",
       "0   M   0.455     0.365   0.095        0.5140          0.2245          0.1010   \n",
       "1   M   0.350     0.265   0.090        0.2255          0.0995          0.0485   \n",
       "2   F   0.530     0.420   0.135        0.6770          0.2565          0.1415   \n",
       "3   M   0.440     0.365   0.125        0.5160          0.2155          0.1140   \n",
       "4   I   0.330     0.255   0.080        0.2050          0.0895          0.0395   \n",
       "\n",
       "   Shell weight  Rings  \n",
       "0         0.150   15.0  \n",
       "1         0.070    7.0  \n",
       "2         0.210    9.0  \n",
       "3         0.155   10.0  \n",
       "4         0.055    7.0  "
      ]
     },
     "execution_count": 118,
     "metadata": {},
     "output_type": "execute_result"
    }
   ],
   "source": [
    "# DataFrame приведённый к нормальному виду\n",
    "df = pd.DataFrame() \n",
    "\n",
    "for i in range(0,len(df_t)):\n",
    "    str_n=str(df_t.iloc[i][0])\n",
    "    sl={}\n",
    "    k=0\n",
    "    while(str_n.find(\",\")>0):\n",
    "        i=0\n",
    "        nn=str_n.find(\",\")\n",
    "        peace_of_str=str_n[i:nn]\n",
    "        if(k!=0):\n",
    "            sl[name[k]]=float(peace_of_str)\n",
    "        else:\n",
    "            sl[name[k]]=peace_of_str\n",
    "        str_n=str_n[nn+1:len(str_n)]\n",
    "        k=k+1\n",
    "    sl[name[k]]=float(str_n)\n",
    "    df = df.append(sl, ignore_index=True)\n",
    "# и теперь он выглядит\n",
    "df.head()"
   ]
  },
  {
   "cell_type": "code",
   "execution_count": 119,
   "id": "1b342154",
   "metadata": {},
   "outputs": [],
   "source": [
    "#Теперь можно работать с данными"
   ]
  },
  {
   "cell_type": "markdown",
   "id": "416b7844",
   "metadata": {},
   "source": [
    "### Описание данных"
   ]
  },
  {
   "cell_type": "code",
   "execution_count": 120,
   "id": "99e2ecb3",
   "metadata": {},
   "outputs": [
    {
     "data": {
      "text/plain": [
       "Sex                object\n",
       "Length            float64\n",
       "Diameter          float64\n",
       "Height            float64\n",
       "Whole weight      float64\n",
       "Shucked weight    float64\n",
       "Viscera weight    float64\n",
       "Shell weight      float64\n",
       "Rings             float64\n",
       "dtype: object"
      ]
     },
     "execution_count": 120,
     "metadata": {},
     "output_type": "execute_result"
    }
   ],
   "source": [
    "df.dtypes "
   ]
  },
  {
   "cell_type": "markdown",
   "id": "47005a0b",
   "metadata": {},
   "source": [
    "Пояснение для каждой колонки:\n",
    "Sex: пол   \n",
    "Length: максимальная длина раковины   \n",
    "Diameter: максимальная ширина раковины   \n",
    "Height: толщина   \n",
    "Whole weight: общая масса   \n",
    "Shucked weight: вес мяса   \n",
    "Viscera weight : вес органов  \n",
    "Shell weight : вес после сушки   \n",
    "Rings: возраст"
   ]
  },
  {
   "cell_type": "code",
   "execution_count": 121,
   "id": "be10fe55",
   "metadata": {},
   "outputs": [
    {
     "data": {
      "text/plain": [
       "0       15.0\n",
       "1        7.0\n",
       "2        9.0\n",
       "3       10.0\n",
       "4        7.0\n",
       "        ... \n",
       "4172    11.0\n",
       "4173    10.0\n",
       "4174     9.0\n",
       "4175    10.0\n",
       "4176    12.0\n",
       "Name: Rings, Length: 4177, dtype: float64"
      ]
     },
     "execution_count": 121,
     "metadata": {},
     "output_type": "execute_result"
    }
   ],
   "source": [
    "# удаляем метки классов\n",
    "y1 = df['Rings']\n",
    "df.pop('Rings')"
   ]
  },
  {
   "cell_type": "markdown",
   "id": "c10ad13b",
   "metadata": {},
   "source": [
    "1 Выполните иерархическую агломеративную кластеризацию (scipy.cluster.hierarchy), постройте график-дендрограмму (hierarchy.dendrogram)"
   ]
  },
  {
   "cell_type": "code",
   "execution_count": 122,
   "id": "c47bf4ad",
   "metadata": {},
   "outputs": [],
   "source": [
    "# переделываем категориальный признак\n",
    "Ed = df['Sex'].astype('category')\n",
    "Ed = Ed.cat.codes\n",
    "df['Sex']=Ed"
   ]
  },
  {
   "cell_type": "code",
   "execution_count": 127,
   "id": "bdcfd967",
   "metadata": {},
   "outputs": [],
   "source": [
    "# Так как dataframe слишком большой оставим только первые несколько элементов\n",
    "df_c = df.sample(900)\n",
    "y2=y1.sample(900)"
   ]
  },
  {
   "cell_type": "code",
   "execution_count": 128,
   "id": "b2cfd59b",
   "metadata": {},
   "outputs": [],
   "source": [
    "# Иерархическая кластеризация\n",
    "cl = linkage(df_c, 'average')"
   ]
  },
  {
   "cell_type": "code",
   "execution_count": 130,
   "id": "3d9189b5",
   "metadata": {},
   "outputs": [
    {
     "data": {
      "image/png": "[encoded data removed]",
      "text/plain": [
       "<Figure size 1800x1080 with 1 Axes>"
      ]
     },
     "metadata": {
      "needs_background": "light"
     },
     "output_type": "display_data"
    }
   ],
   "source": [
    "# дендрограмма\n",
    "fig = plt.figure(figsize=(25, 15))\n",
    "dn = dendrogram(cl)"
   ]
  },
  {
   "cell_type": "markdown",
   "id": "08f1f78f",
   "metadata": {},
   "source": [
    "2 На том же датасете выподните кластеризацию, используя любой другой метод кластеризации (пока с произвольными гиперпараметрами)"
   ]
  },
  {
   "cell_type": "code",
   "execution_count": 93,
   "id": "bb304031",
   "metadata": {},
   "outputs": [],
   "source": [
    "def metrix(X, y, algo):\n",
    "    return {\n",
    "        \"ARI\": adjusted_rand_score(y, algo.labels_),\n",
    "        \"AMI\": adjusted_mutual_info_score(y, algo.labels_),\n",
    "        \"Homogeneity\": homogeneity_score(y, algo.labels_),\n",
    "        \"Completeness\": completeness_score(y, algo.labels_),\n",
    "        \"V-measure\": v_measure_score(y, algo.labels_),\n",
    "        \"Silhouette\": silhouette_score(X, algo.labels_)\n",
    "    }"
   ]
  },
  {
   "cell_type": "code",
   "execution_count": 94,
   "id": "4f8868d2",
   "metadata": {},
   "outputs": [
    {
     "data": {
      "text/plain": [
       "{'ARI': 0.043094042409547374,\n",
       " 'AMI': 0.1362130124724562,\n",
       " 'Homogeneity': 0.1800617130938439,\n",
       " 'Completeness': 0.14099141400953427,\n",
       " 'V-measure': 0.15814924942254516,\n",
       " 'Silhouette': 0.3704401834763142}"
      ]
     },
     "execution_count": 94,
     "metadata": {},
     "output_type": "execute_result"
    }
   ],
   "source": [
    "# используем самый простой метод - метод k-средних\n",
    "n = len(y1.unique())\n",
    "k_means = KMeans(n_clusters=n, max_iter=100).fit(df)\n",
    "metrix(df, y1, k_means)"
   ]
  },
  {
   "cell_type": "markdown",
   "id": "198f5752",
   "metadata": {},
   "source": [
    "3 Выполните оптимизацию гиперпараметров кластеризации (либо иерархической модели из п. 1, либо иной модели из п. 2, на ваш выбор; в случае иерархической кластеризации из п. 1 гиперпараметр — пороговое расстояние между центроидами, являющееся границей разбиения на кластеры). Оптимизацию выполните, используя одну из метрик качества кластеризации, для которых нам понадобится информация об исходных метках класса: Adjusted Rand Index (ARI), Adjusted Mutual Information (AMI), Гомогенность, полнота, V-мера."
   ]
  },
  {
   "cell_type": "code",
   "execution_count": 95,
   "id": "d85dbe5d",
   "metadata": {},
   "outputs": [],
   "source": [
    "#Задаём параметры\n",
    "p = {\"n_clusters\": range(2,n),\n",
    "    \"init\": [\"k-means++\", \"random\"],\n",
    "    \"algorithm\": [\"auto\", \"full\", \"elkan\"]}"
   ]
  },
  {
   "cell_type": "code",
   "execution_count": 100,
   "id": "8e1fc680",
   "metadata": {},
   "outputs": [],
   "source": [
    "m1 = GridSearchCV(KMeans(), p)"
   ]
  },
  {
   "cell_type": "code",
   "execution_count": 101,
   "id": "245076eb",
   "metadata": {},
   "outputs": [
    {
     "data": {
      "text/plain": [
       "{'ARI': 0.00026967367783222677,\n",
       " 'AMI': 0.0019912174631047286,\n",
       " 'Homogeneity': 0.09412529193721554,\n",
       " 'Completeness': 0.07761049086445933,\n",
       " 'V-measure': 0.08507382667529426,\n",
       " 'Silhouette': 0.404265228109409}"
      ]
     },
     "execution_count": 101,
     "metadata": {},
     "output_type": "execute_result"
    }
   ],
   "source": [
    "m1.fit(df_c, y2)\n",
    "metrix(df_c, y2, m1.best_estimator_)"
   ]
  },
  {
   "cell_type": "markdown",
   "id": "41213237",
   "metadata": {},
   "source": [
    "4 Используя алгоритм/модель из п. 2 выполните оптимизацию гиперпараметра количества кластеров, используя \"правило локтя\" (анализируем график силуэта)"
   ]
  },
  {
   "cell_type": "code",
   "execution_count": 112,
   "id": "f5f4261e",
   "metadata": {},
   "outputs": [],
   "source": [
    "# ищем оптимальное количество кластеров по правилу правого локтя\n",
    "g = []\n",
    "list_k = list(range(1, 15))\n",
    "\n",
    "for k in list_k:\n",
    "    km = KMeans(n_clusters=k)\n",
    "    km.fit(df)\n",
    "    g.append(km.inertia_)"
   ]
  },
  {
   "cell_type": "code",
   "execution_count": 113,
   "id": "1bcb462d",
   "metadata": {},
   "outputs": [
    {
     "data": {
      "image/png": "[encoded data removed]",
      "text/plain": [
       "<Figure size 432x432 with 1 Axes>"
      ]
     },
     "metadata": {
      "needs_background": "light"
     },
     "output_type": "display_data"
    }
   ],
   "source": [
    "# Строим\n",
    "plt.figure(figsize=(6, 6))\n",
    "plt.plot(list_k, g, '-gx')\n",
    "plt.xlabel(r'Number of clusters - k')\n",
    "plt.ylabel('Sum of squared distance');"
   ]
  },
  {
   "cell_type": "markdown",
   "id": "1a080930",
   "metadata": {},
   "source": [
    "На данном графике сложно определить какое количество кластеров стоит использовать, потому что кривая уменьшается довольно монотонно и нет резкого сгиба. Но думаю что оптимальное количество кластеров = 3"
   ]
  }
 ],
 "metadata": {
  "kernelspec": {
   "display_name": "Python 3 (ipykernel)",
   "language": "python",
   "name": "python3"
  },
  "language_info": {
   "codemirror_mode": {
    "name": "ipython",
    "version": 3
   },
   "file_extension": ".py",
   "mimetype": "text/x-python",
   "name": "python",
   "nbconvert_exporter": "python",
   "pygments_lexer": "ipython3",
   "version": "3.8.6"
  }
 },
 "nbformat": 4,
 "nbformat_minor": 5
}
